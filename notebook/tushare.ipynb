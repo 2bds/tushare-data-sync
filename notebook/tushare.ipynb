{
 "cells": [
  {
   "cell_type": "code",
   "execution_count": 1,
   "metadata": {
    "collapsed": true
   },
   "outputs": [],
   "source": [
    "import tushare as ts"
   ]
  },
  {
   "cell_type": "code",
   "execution_count": 4,
   "metadata": {
    "collapsed": false
   },
   "outputs": [],
   "source": [
    "from sqlalchemy import create_engine\n",
    "\n",
    "tushare_db = create_engine('postgresql://earthson@localhost/trading_tushare', pool_size=32, max_overflow=0)"
   ]
  },
  {
   "cell_type": "code",
   "execution_count": 1,
   "metadata": {
    "collapsed": true
   },
   "outputs": [],
   "source": [
    "def fetch_stock_basics():\n",
    "    df = ts.get_stock_basics()\n",
    "    df.to_sql('stock_basics', tushare_db, if_exists=\"replace\")\n",
    "\n",
    "def fetch_tick(stock, date):\n",
    "    df = ts.get_tick_data(stock, date=date)\n",
    "    df['stock'] = stock\n",
    "    df['date'] = date\n",
    "    ans = df.set_index(['stock', 'date'])\n",
    "    try:\n",
    "        tushare_db.execute(\"\"\"delete from tick_data where \"stock\"='%s' AND \"date\"='%s' \"\"\" % (stock, date))\n",
    "    except:\n",
    "        pass\n",
    "    ans.to_sql('tick_data', tushare_db, if_exists=\"append\")"
   ]
  },
  {
   "cell_type": "code",
   "execution_count": 2,
   "metadata": {
    "collapsed": true
   },
   "outputs": [],
   "source": [
    "#History data forward answer authority\n",
    "def fetch_history_faa(stock, start, end):\n",
    "    df = ts.get_h_data(stock, autype='hfq', start=start, end=end)\n",
    "    df['stock'] = stock\n",
    "    ans = df.set_index(['stock','date'])\n",
    "    try:\n",
    "        tushare_db.execute(\"\"\"delete from history_faa where \"stock\"='%s' AND \"date\">='%s' AND \"date\"<='%s'\"\"\" % (stock, start, end))\n",
    "    except:\n",
    "        pass\n",
    "    ans.to_sql('history_faa', tushare_db, if_exists=\"append\")"
   ]
  },
  {
   "cell_type": "code",
   "execution_count": 20,
   "metadata": {
    "collapsed": false
   },
   "outputs": [
    {
     "ename": "NameError",
     "evalue": "name 'fetch_stock_basics' is not defined",
     "output_type": "error",
     "traceback": [
      "\u001b[0;31m---------------------------------------------------------------------------\u001b[0m",
      "\u001b[0;31mNameError\u001b[0m                                 Traceback (most recent call last)",
      "\u001b[0;32m<ipython-input-20-77f9ca51ade2>\u001b[0m in \u001b[0;36m<module>\u001b[0;34m()\u001b[0m\n\u001b[0;32m----> 1\u001b[0;31m \u001b[0mfetch_stock_basics\u001b[0m\u001b[0;34m(\u001b[0m\u001b[0;34m)\u001b[0m\u001b[0;34m\u001b[0m\u001b[0m\n\u001b[0m",
      "\u001b[0;31mNameError\u001b[0m: name 'fetch_stock_basics' is not defined"
     ]
    }
   ],
   "source": [
    "fetch_stock_basics()"
   ]
  },
  {
   "cell_type": "code",
   "execution_count": 8,
   "metadata": {
    "collapsed": false
   },
   "outputs": [],
   "source": [
    "x = ts.get_tick_data('600606', '2015-01-01')"
   ]
  },
  {
   "cell_type": "code",
   "execution_count": 15,
   "metadata": {
    "collapsed": false
   },
   "outputs": [
    {
     "name": "stdout",
     "output_type": "stream",
     "text": [
      "[Getting data:]"
     ]
    }
   ],
   "source": [
    "x = ts.get_h_data('600606', autype='hfq', start='2015-01-01', end='2015-01-02')"
   ]
  },
  {
   "cell_type": "code",
   "execution_count": 19,
   "metadata": {
    "collapsed": false
   },
   "outputs": [
    {
     "data": {
      "text/plain": [
       "True"
      ]
     },
     "execution_count": 19,
     "metadata": {},
     "output_type": "execute_result"
    }
   ],
   "source": [
    "x is None"
   ]
  }
 ],
 "metadata": {
  "anaconda-cloud": {},
  "kernelspec": {
   "display_name": "Python [Root]",
   "language": "python",
   "name": "Python [Root]"
  },
  "language_info": {
   "codemirror_mode": {
    "name": "ipython",
    "version": 3
   },
   "file_extension": ".py",
   "mimetype": "text/x-python",
   "name": "python",
   "nbconvert_exporter": "python",
   "pygments_lexer": "ipython3",
   "version": "3.5.2"
  }
 },
 "nbformat": 4,
 "nbformat_minor": 0
}
