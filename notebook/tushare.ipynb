{
 "cells": [
  {
   "cell_type": "code",
   "execution_count": 1,
   "metadata": {
    "collapsed": true
   },
   "outputs": [],
   "source": [
    "import tushare as ts"
   ]
  },
  {
   "cell_type": "code",
   "execution_count": 2,
   "metadata": {
    "collapsed": false
   },
   "outputs": [],
   "source": [
    "from sqlalchemy import create_engine\n",
    "\n",
    "tushare_db = create_engine('postgresql://earthson@localhost/trading_tushare', pool_size=32, max_overflow=0)"
   ]
  },
  {
   "cell_type": "code",
   "execution_count": 3,
   "metadata": {
    "collapsed": true
   },
   "outputs": [],
   "source": [
    "def fetch_stock_basics():\n",
    "    df = ts.get_stock_basics()\n",
    "    df.to_sql('stock_basics', tushare_db, if_exists=\"replace\")\n",
    "\n",
    "def fetch_tick(stock, date):\n",
    "    df = ts.get_tick_data(stock, date=date)\n",
    "    df['stock'] = stock\n",
    "    df['date'] = date\n",
    "    ans = df.set_index(['stock', 'date'])\n",
    "    try:\n",
    "        tushare_db.execute(\"\"\"delete from tick_data where \"stock\"='%s' AND \"date\"='%s' \"\"\" % (stock, date))\n",
    "    except:\n",
    "        pass\n",
    "    ans.to_sql('tick_data', tushare_db, if_exists=\"append\")"
   ]
  },
  {
   "cell_type": "code",
   "execution_count": 12,
   "metadata": {
    "collapsed": true
   },
   "outputs": [],
   "source": [
    "#History data forward answer authority\n",
    "def fetch_history_faa(stock, start, end):\n",
    "    df = ts.get_h_data(stock, autype='hfq', start=start, end=end)\n",
    "    df['stock'] = stock\n",
    "    ans = df.set_index(['stock','date'])\n",
    "    try:\n",
    "        tushare_db.execute(\"\"\"delete from history_faa where \"stock\"='%s' AND \"date\">='%s' AND \"date\"<='%s'\"\"\" % (stock, start, end))\n",
    "    except:\n",
    "        pass\n",
    "    ans.to_sql('history_faa', tushare_db, if_exists=\"append\")"
   ]
  },
  {
   "cell_type": "code",
   "execution_count": 4,
   "metadata": {
    "collapsed": false
   },
   "outputs": [],
   "source": [
    "fetch_stock_basics()"
   ]
  },
  {
   "cell_type": "code",
   "execution_count": null,
   "metadata": {
    "collapsed": true
   },
   "outputs": [],
   "source": [
    "async def "
   ]
  }
 ],
 "metadata": {
  "anaconda-cloud": {},
  "kernelspec": {
   "display_name": "Python [Root]",
   "language": "python",
   "name": "Python [Root]"
  },
  "language_info": {
   "codemirror_mode": {
    "name": "ipython",
    "version": 3
   },
   "file_extension": ".py",
   "mimetype": "text/x-python",
   "name": "python",
   "nbconvert_exporter": "python",
   "pygments_lexer": "ipython3",
   "version": "3.5.2"
  }
 },
 "nbformat": 4,
 "nbformat_minor": 0
}
